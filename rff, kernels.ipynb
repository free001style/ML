{
 "cells": [
  {
   "cell_type": "markdown",
   "metadata": {
    "id": "RYp0bXOFK-hP"
   },
   "source": [
    "# Машинное обучение, ФКН ВШЭ\n",
    "\n",
    "## Практическое задание 8. Метод опорных векторов и аппроксимация ядер\n",
    "\n",
    "### Общая информация\n",
    "\n",
    "Дата выдачи: 02.02.2024\n",
    "\n",
    "Мягкий дедлайн: 23:59MSK 19.02.2024\n",
    "\n",
    "Жесткий дедлайн: 23:59MSK 25.02.2024\n",
    "\n",
    "### Оценивание и штрафы\n",
    "Каждая из задач имеет определенную «стоимость» (указана в скобках около задачи). Максимальная оценка за работу (без учёта бонусов) — 10 баллов.\n",
    "\n",
    "Сдавать задание после указанного жёсткого срока сдачи нельзя. При выставлении неполного балла за задание в связи с наличием ошибок на усмотрение проверяющего предусмотрена возможность исправить работу на указанных в ответном письме условиях.\n",
    "\n",
    "Задание выполняется самостоятельно. «Похожие» решения считаются плагиатом и все задействованные студенты (в том числе те, у кого списали) не могут получить за него больше 0 баллов (подробнее о плагиате см. на странице курса). Если вы нашли решение какого-то из заданий (или его часть) в открытом источнике, необходимо указать ссылку на этот источник в отдельном блоке в конце вашей работы (скорее всего вы будете не единственным, кто это нашел, поэтому чтобы исключить подозрение в плагиате, необходима ссылка на источник).\n",
    "\n",
    "Неэффективная реализация кода может негативно отразиться на оценке.\n",
    "\n",
    "### Формат сдачи\n",
    "Задания сдаются через систему anytask. Посылка должна содержать:\n",
    "* Ноутбук homework-practice-08-random-features-Username.ipynb\n",
    "\n",
    "Username — ваша фамилия и имя на латинице именно в таком порядке"
   ]
  },
  {
   "cell_type": "markdown",
   "metadata": {
    "id": "vY8vT0W_K-hR"
   },
   "source": [
    "### О задании\n",
    "\n",
    "На занятиях мы подробно обсуждали метод опорных векторов (SVM). В базовой версии в нём нет чего-то особенного — мы всего лишь используем специальную функцию потерь, которая не требует устремлять отступы к бесконечности; ей достаточно, чтобы отступы были не меньше +1. Затем мы узнали, что SVM можно переписать в двойственном виде, который, позволяет заменить скалярные произведения объектов на ядра. Это будет соответствовать построению модели в новом пространстве более высокой размерности, координаты которого представляют собой нелинейные модификации исходных признаков.\n",
    "\n",
    "Ядровой SVM, к сожалению, довольно затратен по памяти (нужно хранить матрицу Грама размера $d \\times d$) и по времени (нужно решать задачу условной оптимизации с квадратичной функцией, а это не очень быстро). Мы обсуждали, что есть способы посчитать новые признаки $\\tilde \\varphi(x)$ на основе исходных так, что скалярные произведения этих новых $\\langle \\tilde \\varphi(x), \\tilde \\varphi(z) \\rangle$ приближают ядро $K(x, z)$.\n",
    "\n",
    "Мы будем исследовать аппроксимации методом Random Fourier Features (RFF, также в литературе встречается название Random Kitchen Sinks) для гауссовых ядер. Будем использовать формулы, которые немного отличаются от того, что было на лекциях (мы добавим сдвиги внутрь тригонометрических функций и будем использовать только косинусы, потому что с нужным сдвигом косинус превратится в синус):\n",
    "$$\\tilde \\varphi(x) = (\n",
    "\\cos (w_1^T x + b_1),\n",
    "\\dots,\n",
    "\\cos (w_n^T x + b_n)\n",
    "),$$\n",
    "где $w_j \\sim \\mathcal{N}(0, 1/\\sigma^2)$, $b_j \\sim U[-\\pi, \\pi]$.\n",
    "\n",
    "На новых признаках $\\tilde \\varphi(x)$ мы будем строить любую линейную модель.\n",
    "\n",
    "Можно считать, что это некоторая новая парадигма построения сложных моделей. Можно направленно искать сложные нелинейные закономерности в данных с помощью градиентного бустинга или нейронных сетей, а можно просто нагенерировать большое количество случайных нелинейных признаков и надеяться, что быстрая и простая модель (то есть линейная) сможет показать на них хорошее качество. В этом задании мы изучим, насколько работоспособна такая идея.\n",
    "\n",
    "### Алгоритм\n",
    "\n",
    "Вам потребуется реализовать следующий алгоритм:\n",
    "1. Понизить размерность выборки до new_dim с помощью метода главных компонент.\n",
    "2. Для полученной выборки оценить гиперпараметр $\\sigma^2$ с помощью эвристики (рекомендуем считать медиану не по всем парам объектов, а по случайному подмножеству из где-то миллиона пар объектов): $$\\sigma^2 = \\text{median}_{i, j = 1, \\dots, \\ell, i \\neq j} \\left\\{\\sum_{k = 1}^{d} (x_{ik} - x_{jk})^2 \\right\\}$$\n",
    "3. Сгенерировать n_features наборов весов $w_j$ и сдвигов $b_j$.\n",
    "4. Сформировать n_features новых признаков по формулам, приведённым выше.\n",
    "5. Обучить линейную модель (логистическую регрессию или SVM) на новых признаках.\n",
    "6. Повторить преобразования (PCA, формирование новых признаков) к тестовой выборке и применить модель."
   ]
  },
  {
   "cell_type": "markdown",
   "metadata": {
    "id": "N_sGunb7K-hS"
   },
   "source": [
    "Тестировать алгоритм мы будем на данных Fashion MNIST. Ниже код для их загрузки и подготовки."
   ]
  },
  {
   "cell_type": "code",
   "execution_count": 1,
   "metadata": {
    "id": "YyG6dBfjK-hS"
   },
   "outputs": [],
   "source": [
    "import tensorflow as tf\n",
    "fashion_mnist = tf.keras.datasets.fashion_mnist\n",
    "(x_train_pics, y_train), (x_test_pics, y_test) = fashion_mnist.load_data()\n",
    "x_train = x_train_pics.reshape(y_train.shape[0], -1)\n",
    "x_test = x_test_pics.reshape(y_test.shape[0], -1)"
   ]
  },
  {
   "cell_type": "code",
   "execution_count": 23,
   "metadata": {},
   "outputs": [
    {
     "data": {
      "text/plain": [
       "(2, 59999)"
      ]
     },
     "execution_count": 23,
     "metadata": {},
     "output_type": "execute_result"
    }
   ],
   "source": [
    "import numpy as np\n",
    "\n",
    "a = np.random.choice(60000, (2, 60000))\n",
    "a = a[:, a[0]!=a[1]]\n",
    "a.shape"
   ]
  },
  {
   "cell_type": "markdown",
   "metadata": {
    "id": "rJNN55F7K-hT"
   },
   "source": [
    "__Задание 1. (5 баллов)__\n",
    "\n",
    "Реализуйте алгоритм, описанный выше. Можете воспользоваться шаблоном класса ниже или написать свой интерфейс.\n",
    "\n",
    "Ваша реализация должна поддерживать следующие опции:\n",
    "1. Возможность задавать значения гиперпараметров new_dim (по умолчанию 50) и n_features (по умолчанию 1000).\n",
    "2. Возможность включать или выключать предварительное понижение размерности с помощью метода главных компонент.\n",
    "3. Возможность выбирать тип линейной модели (логистическая регрессия или SVM с линейным ядром).\n",
    "\n",
    "Протестируйте на данных Fashion MNIST, сформированных кодом выше. Если на тесте у вас получилась доля верных ответов не ниже 0.84 с гиперпараметрами по умолчанию, то вы всё сделали правильно."
   ]
  },
  {
   "cell_type": "code",
   "execution_count": 63,
   "metadata": {
    "id": "jP8yepx8K-hT"
   },
   "outputs": [],
   "source": [
    "from sklearn.base import BaseEstimator, TransformerMixin\n",
    "from sklearn.decomposition import PCA\n",
    "import numpy as np\n",
    "from sklearn.preprocessing import StandardScaler\n",
    "from sklearn.linear_model import LogisticRegression\n",
    "from sklearn.svm import SVC\n",
    "from sklearn.metrics import accuracy_score\n",
    "\n",
    "import warnings\n",
    "warnings.filterwarnings('ignore')\n",
    "\n",
    "\n",
    "class RFFPipeline(BaseEstimator, TransformerMixin):\n",
    "    def __init__(self, n_features=1000, new_dim=50, use_PCA=True, classifier='logreg'):\n",
    "        \"\"\"        \n",
    "        Implements pipeline, which consists of PCA decomposition,\n",
    "        Random Fourier Features approximation and linear classification model.\n",
    "        \n",
    "        n_features, int: amount of synthetic random features generated with RFF approximation.\n",
    "\n",
    "        new_dim, int: PCA output size.\n",
    "        \n",
    "        use_PCA, bool: whether to include PCA preprocessing.\n",
    "        \n",
    "        classifier, string: either 'svm' or 'logreg', a linear classification model to use on top of pipeline.\n",
    "        \n",
    "        Feel free to edit this template for your preferences.    \n",
    "        \"\"\"\n",
    "        self.n_features = n_features\n",
    "        self.use_PCA = use_PCA\n",
    "        self.new_dim = new_dim\n",
    "        self.classifier = classifier\n",
    "        if self.classifier == 'logreg':\n",
    "            self.model = LogisticRegression()\n",
    "        elif self.classifier == 'svm':\n",
    "            self.model = SVC(kernel='linear', probability=True)\n",
    "        else:\n",
    "            raise ValueError('YOU FUCKING IDIOT')\n",
    "        \n",
    "    def fit(self, X, y):\n",
    "        \"\"\"\n",
    "        Fit all parts of algorithm (PCA, RFF, Classification) to training set.\n",
    "        \"\"\"\n",
    "        self.scaler = StandardScaler()\n",
    "        X_new = X.copy()\n",
    "        X_new = self.scaler.fit_transform(X_new)\n",
    "        if self.use_PCA:\n",
    "            self.pca = PCA(n_components=self.new_dim)\n",
    "            X_new = self.pca.fit_transform(X_new)\n",
    "        ind = np.random.choice(X_new.shape[0], size=(2, 1000))\n",
    "        ind = ind[:, ind[0] != ind[1]]\n",
    "        self.sigma = np.median(np.sum((X_new[ind[0]] - X_new[ind[1]]) **2 , axis=1)) ** 0.5\n",
    "        self.w = np.random.normal(0, 1 / self.sigma, size=(X_new.shape[1], self.n_features))\n",
    "        self.b = np.random.uniform(-np.pi, np.pi, self.n_features)\n",
    "        \n",
    "        X_new = np.cos(X_new @ self.w + self.b)\n",
    "        \n",
    "        self.model.fit(X_new, y)\n",
    "        return self\n",
    "\n",
    "    def predict_proba(self, X):\n",
    "        \"\"\"\n",
    "        Apply pipeline to obtain scores for input data.\n",
    "        \"\"\"\n",
    "        X_new = X.copy()\n",
    "        X_new = self.scaler.transform(X_new)\n",
    "        if self.use_PCA:\n",
    "            X_new = self.pca.transform(X_new)\n",
    "\n",
    "        X_new = np.cos(X_new @ self.w + self.b)\n",
    "        return self.model.predict_proba(X_new)\n",
    "        \n",
    "    def predict(self, X):\n",
    "        \"\"\"\n",
    "        Apply pipeline to obtain discrete predictions for input data.\n",
    "        \"\"\"\n",
    "        X_new = X.copy()\n",
    "        X_new = self.scaler.transform(X_new)\n",
    "        if self.use_PCA:\n",
    "            X_new = self.pca.transform(X_new)\n",
    "\n",
    "        X_new = np.cos(X_new @ self.w + self.b)\n",
    "        return self.model.predict(X_new)"
   ]
  },
  {
   "cell_type": "code",
   "execution_count": 65,
   "metadata": {},
   "outputs": [
    {
     "data": {
      "text/plain": [
       "0.8565"
      ]
     },
     "execution_count": 65,
     "metadata": {},
     "output_type": "execute_result"
    }
   ],
   "source": [
    "pipeline = RFFPipeline(classifier='logreg')\n",
    "pipeline.fit(x_train, y_train)\n",
    "y_pred = pipeline.predict(x_test)\n",
    "accuracy_score(y_test, y_pred)"
   ]
  },
  {
   "cell_type": "markdown",
   "metadata": {
    "id": "HYqQUEi-K-hU"
   },
   "source": [
    "__Задание 2. (3 балла)__\n",
    "\n",
    "Сравните подход со случайными признаками с обучением SVM на исходных признаках. Попробуйте вариант с обычным (линейным) SVM и с ядровым SVM. Ядровой SVM может очень долго обучаться, поэтому можно делать любые разумные вещи для ускорения: брать подмножество объектов из обучающей выборки, например.\n",
    "\n",
    "Сравните подход со случайными признаками с вариантом, в котором вы понижаете размерность с помощью PCA и обучаете градиентный бустинг. Используйте одну из реализаций CatBoost/LightGBM/XGBoost, не забудьте подобрать число деревьев и длину шага.\n",
    "\n",
    "Сделайте выводы — насколько идея со случайными признаками работает? Сравните как с точки зрения качества, так и с точки зрения скорости обучения и применения."
   ]
  },
  {
   "cell_type": "markdown",
   "metadata": {},
   "source": [
    "RFF SVM"
   ]
  },
  {
   "cell_type": "code",
   "execution_count": 29,
   "metadata": {
    "id": "qN8LUlJgK-hV"
   },
   "outputs": [
    {
     "data": {
      "text/plain": [
       "0.8772"
      ]
     },
     "execution_count": 29,
     "metadata": {},
     "output_type": "execute_result"
    }
   ],
   "source": [
    "pipeline = RFFPipeline(classifier='svm')\n",
    "pipeline.fit(x_train, y_train)\n",
    "y_pred = pipeline.predict(x_test)\n",
    "accuracy_score(y_test, y_pred)"
   ]
  },
  {
   "cell_type": "markdown",
   "metadata": {},
   "source": [
    "SVD with linear kernel"
   ]
  },
  {
   "cell_type": "code",
   "execution_count": 30,
   "metadata": {},
   "outputs": [
    {
     "data": {
      "text/plain": [
       "0.837"
      ]
     },
     "execution_count": 30,
     "metadata": {},
     "output_type": "execute_result"
    }
   ],
   "source": [
    "scaler = StandardScaler()\n",
    "X_train_scal = scaler.fit_transform(x_train)\n",
    "X_test_scal = scaler.transform(x_test)\n",
    "\n",
    "lin_svm = SVC(kernel='linear').fit(X_train_scal, y_train)\n",
    "y_pred = lin_svm.predict(X_test_scal)\n",
    "accuracy_score(y_test, y_pred)"
   ]
  },
  {
   "cell_type": "markdown",
   "metadata": {},
   "source": [
    "RBF SVM"
   ]
  },
  {
   "cell_type": "code",
   "execution_count": 39,
   "metadata": {},
   "outputs": [
    {
     "data": {
      "text/plain": [
       "0.8836"
      ]
     },
     "execution_count": 39,
     "metadata": {},
     "output_type": "execute_result"
    }
   ],
   "source": [
    "scaler = StandardScaler()\n",
    "X_train_scal = scaler.fit_transform(x_train)\n",
    "X_test_scal = scaler.transform(x_test)\n",
    "\n",
    "lin_svm = SVC().fit(X_train_scal, y_train)\n",
    "y_pred = lin_svm.predict(X_test_scal)\n",
    "accuracy_score(y_test, y_pred)"
   ]
  },
  {
   "cell_type": "markdown",
   "metadata": {},
   "source": [
    "Сatboost"
   ]
  },
  {
   "cell_type": "code",
   "execution_count": null,
   "metadata": {},
   "outputs": [],
   "source": [
    "from catboost import CatBoostClassifier\n",
    "import optuna\n",
    "from sklearn.model_selection import train_test_split\n",
    "\n",
    "\n",
    "x_train_tr, x_val, y_train_tr, y_val = train_test_split(x_train, y_train, test_size=0.1)\n",
    "\n",
    "scaler = StandardScaler()\n",
    "X_train_scal = scaler.fit_transform(x_train_tr)\n",
    "X_val_scal = scaler.transform(x_val)\n",
    "X_test_scal = scaler.transform(x_test)\n",
    "\n",
    "pca = PCA(n_components=50)\n",
    "X_train_pca = pca.fit_transform(X_train_scal)\n",
    "X_val_pca = pca.transform(X_val_scal)\n",
    "X_test_pca = pca.transform(X_test_scal)\n",
    "\n",
    "\n",
    "def objective(trial):\n",
    "    params = {\n",
    "        'n_estimators' : trial.suggest_int('n_estimators', 1, 100),\n",
    "        'learning_rate' : trial.suggest_float('learning_rate', 0, 1)\n",
    "    }\n",
    "\n",
    "    boosting = CatBoostClassifier(**params, verbose=0)\n",
    "    boosting.fit(X_train_pca, y_train_tr)\n",
    "    return boosting.score(X_val_pca, y_val)\n",
    "\n",
    "study = optuna.create_study(direction='maximize')\n",
    "study.optimize(objective, n_trials=100)"
   ]
  },
  {
   "cell_type": "code",
   "execution_count": 38,
   "metadata": {},
   "outputs": [
    {
     "data": {
      "text/plain": [
       "0.8459"
      ]
     },
     "execution_count": 38,
     "metadata": {},
     "output_type": "execute_result"
    }
   ],
   "source": [
    "boosting = CatBoostClassifier(**study.best_params, verbose=0).fit(X_train_pca, y_train_tr)\n",
    "y_pred = boosting.predict(X_test_pca)\n",
    "accuracy_score(y_test, y_pred)"
   ]
  },
  {
   "cell_type": "markdown",
   "metadata": {},
   "source": [
    "Картина следующая: \n",
    "1. лучшее качетсво у rbf(оно гауссовское ядро), из svm он отработал быстрее всех\n",
    "2. rff svm работал гораздо дольше, но в плане качество сравнимо с rbf\n",
    "3. svm с линейным ядром показал себя хуже всех(в целом ожидаемо)\n",
    "4. бустинг выдал качество не очень, но учился быстро(даже с учётом подбора гиперпараметров)\n",
    "\n",
    "Подытоживая, можно сказать, что идея с rff работает, но долго, и есть rdf, который и быстрее, и лучше."
   ]
  },
  {
   "cell_type": "markdown",
   "metadata": {
    "id": "e6umjhWuK-hV"
   },
   "source": [
    "__Задание 3. (2 балла)__\n",
    "\n",
    "Проведите эксперименты:\n",
    "1. Помогает ли предварительное понижение размерности с помощью PCA? \n",
    "2. Как зависит итоговое качество от n_features? Выходит ли оно на плато при росте n_features?\n",
    "3. Важно ли, какую модель обучать — логистическую регрессию или SVM?"
   ]
  },
  {
   "cell_type": "code",
   "execution_count": 42,
   "metadata": {
    "id": "c2QIHIMbK-hW"
   },
   "outputs": [],
   "source": [
    "#1)\n",
    "results = {}\n",
    "pipeline = RFFPipeline(use_PCA=False)\n",
    "pipeline.fit(x_train, y_train)\n",
    "y_pred = pipeline.predict(x_test)\n",
    "results['w/o pca'] = accuracy_score(y_test, y_pred)\n",
    "\n",
    "for num_feat in [10, 50, 100, 150, 300]:\n",
    "    pipeline = RFFPipeline(new_dim=num_feat)\n",
    "    pipeline.fit(x_train, y_train)\n",
    "    y_pred = pipeline.predict(x_test)\n",
    "    results[num_feat] = accuracy_score(y_test, y_pred)"
   ]
  },
  {
   "cell_type": "code",
   "execution_count": 49,
   "metadata": {},
   "outputs": [
    {
     "data": {
      "text/plain": [
       "(0.78, 0.90825)"
      ]
     },
     "execution_count": 49,
     "metadata": {},
     "output_type": "execute_result"
    },
    {
     "data": {
      "image/png": "[encoded data removed]",
      "text/plain": [
       "<Figure size 640x480 with 1 Axes>"
      ]
     },
     "metadata": {},
     "output_type": "display_data"
    }
   ],
   "source": [
    "import seaborn as sns\n",
    "\n",
    "ax = sns.barplot(results)\n",
    "ax.set_title('Accuracy of logreg s.t. pca and new dimension')\n",
    "ax.set_ylabel('accuracy')\n",
    "ax.set_xlabel('new dimension')\n",
    "ax.set_ylim(0.78)"
   ]
  },
  {
   "cell_type": "code",
   "execution_count": 53,
   "metadata": {},
   "outputs": [],
   "source": [
    "#2)\n",
    "\n",
    "results = {}\n",
    "n_features = list(range(500, 5000, 500))\n",
    "\n",
    "for n_feature in n_features:\n",
    "    pipeline = RFFPipeline(n_features=n_feature)\n",
    "    pipeline.fit(x_train, y_train)\n",
    "    y_pred = pipeline.predict(x_test)\n",
    "    results[n_feature] = accuracy_score(y_test, y_pred)"
   ]
  },
  {
   "cell_type": "code",
   "execution_count": 55,
   "metadata": {},
   "outputs": [
    {
     "data": {
      "text/plain": [
       "(0.82, 0.901845)"
      ]
     },
     "execution_count": 55,
     "metadata": {},
     "output_type": "execute_result"
    },
    {
     "data": {
      "image/png": "[encoded data removed]",
      "text/plain": [
       "<Figure size 640x480 with 1 Axes>"
      ]
     },
     "metadata": {},
     "output_type": "display_data"
    }
   ],
   "source": [
    "ax = sns.barplot(results)\n",
    "ax.set_title('Accuracy of logreg s.t. number of rrf')\n",
    "ax.set_ylabel('accuracy')\n",
    "ax.set_xlabel('number of rrf')\n",
    "ax.set_ylim(0.82)"
   ]
  },
  {
   "cell_type": "markdown",
   "metadata": {},
   "source": [
    "__Выводы__:\n",
    "1. Видим, что сжатие чуть улучшает акураси, но главное не сжимать слишком сильно. В нашем случае сжатие в 5 раз является оптимальным.\n",
    "2. Увеличение количества признаков почти никак не меняет качество.\n",
    "3. Тут даже не хочется запускать ничего. Если хочется получить лучше качество и есть готовность ждать(причём ждать не только обучения, но и предикта), то берём svm. Иначе берём ультразвуковой логрег и теряем немного в качестве. "
   ]
  },
  {
   "cell_type": "markdown",
   "metadata": {
    "id": "CJqXVuasK-hW"
   },
   "source": [
    "### Бонус"
   ]
  },
  {
   "cell_type": "markdown",
   "metadata": {
    "id": "QVDWHCdrK-hX"
   },
   "source": [
    "__Задание 4. (Максимум 2 балла)__\n",
    "\n",
    "Как вы, должно быть, помните с курса МО-1, многие алгоритмы машинного обучения работают лучше, если признаки данных некоррелированы. Оказывается, что для RFF существует модификация, позволяющая получать ортогональные случайные признаки (Orthogonal Random Features, ORF). Об этом методе можно прочитать в [статье](https://proceedings.neurips.cc/paper/2016/file/53adaf494dc89ef7196d73636eb2451b-Paper.pdf). Реализуйте класс для вычисления ORF по аналогии с основным заданием. Обратите внимание, что ваш класс должен уметь работать со случаем n_features > new_dim (в статье есть замечание на этот счет). Проведите эксперименты, сравнивающие RFF и ORF, сделайте выводы."
   ]
  },
  {
   "cell_type": "code",
   "execution_count": 87,
   "metadata": {
    "id": "HSxvGI9iK-hX"
   },
   "outputs": [],
   "source": [
    "class ORFPipeline(BaseEstimator, TransformerMixin):\n",
    "    def __init__(self, n_features=1000, new_dim=50, use_PCA=True, classifier='logreg'):\n",
    "        \"\"\"        \n",
    "        Implements pipeline, which consists of PCA decomposition,\n",
    "        Random Fourier Features approximation and linear classification model.\n",
    "        \n",
    "        n_features, int: amount of synthetic random features generated with RFF approximation.\n",
    "\n",
    "        new_dim, int: PCA output size.\n",
    "        \n",
    "        use_PCA, bool: whether to include PCA preprocessing.\n",
    "        \n",
    "        classifier, string: either 'svm' or 'logreg', a linear classification model to use on top of pipeline.\n",
    "        \n",
    "        Feel free to edit this template for your preferences.    \n",
    "        \"\"\"\n",
    "        self.n_features = n_features\n",
    "        self.use_PCA = use_PCA\n",
    "        self.new_dim = new_dim\n",
    "        self.classifier = classifier\n",
    "        if self.classifier == 'logreg':\n",
    "            self.model = LogisticRegression()\n",
    "        elif self.classifier == 'svm':\n",
    "            self.model = SVC(kernel='linear', probability=True)\n",
    "        else:\n",
    "            raise ValueError('YOU FUCKING IDIOT')\n",
    "        if self.use_PCA:\n",
    "            if self.n_features > self.new_dim and self.n_features % self.new_dim:\n",
    "                raise ValueError('YOU FUCKING IDIOT')\n",
    "            \n",
    "    def _compute_w(self, d):\n",
    "        g = np.random.normal(size=(d, d))\n",
    "        q, _ = np.linalg.qr(g)\n",
    "        s = np.sqrt(np.random.chisquare(d, d))\n",
    "\n",
    "        return 1 / self.sigma * (q @ np.diag(s))\n",
    "\n",
    "        \n",
    "    def fit(self, X, y):\n",
    "        \"\"\"\n",
    "        Fit all parts of algorithm (PCA, RFF, Classification) to training set.\n",
    "        \"\"\"\n",
    "        self.scaler = StandardScaler()\n",
    "        X_new = X.copy()\n",
    "        X_new = self.scaler.fit_transform(X_new)\n",
    "        if self.use_PCA:\n",
    "            self.pca = PCA(n_components=self.new_dim)\n",
    "            X_new = self.pca.fit_transform(X_new)\n",
    "\n",
    "        ind = np.random.choice(X_new.shape[0], size=(2, 1000))\n",
    "        ind = ind[:, ind[0] != ind[1]]\n",
    "        self.sigma = np.median(np.sum((X_new[ind[0]] - X_new[ind[1]]) **2 , axis=1)) ** 0.5\n",
    "\n",
    "\n",
    "        if self.n_features > self.new_dim and self.n_features % X_new.shape[1]:\n",
    "            raise ValueError('YOU FUCKING IDIOT')\n",
    "\n",
    "        self.b = np.random.uniform(-np.pi, np.pi, self.n_features)\n",
    "\n",
    "        if self.n_features <= X_new.shape[1]:\n",
    "            self.w = self._compute_w(X_new.shape[1])[:, :self.n_features]\n",
    "        else:\n",
    "            ws = []\n",
    "            for _ in range(self.n_features // X_new.shape[1]):\n",
    "                ws.append(self._compute_w(X_new.shape[1]))\n",
    "            self.w = np.hstack(ws)\n",
    "        \n",
    "        X_new = np.cos(X_new @ self.w + self.b)\n",
    "        \n",
    "        self.model.fit(X_new, y)\n",
    "        return self\n",
    "\n",
    "    def predict_proba(self, X):\n",
    "        \"\"\"\n",
    "        Apply pipeline to obtain scores for input data.\n",
    "        \"\"\"\n",
    "        X_new = X.copy()\n",
    "        X_new = self.scaler.transform(X_new)\n",
    "        if self.use_PCA:\n",
    "            X_new = self.pca.transform(X_new)\n",
    "\n",
    "        X_new = np.cos(X_new @ self.w + self.b)\n",
    "        self.model.p\n",
    "        return self.model.predict_proba(X_new)\n",
    "        \n",
    "    def predict(self, X):\n",
    "        \"\"\"\n",
    "        Apply pipeline to obtain discrete predictions for input data.\n",
    "        \"\"\"\n",
    "        X_new = X.copy()\n",
    "        X_new = self.scaler.transform(X_new)\n",
    "        if self.use_PCA:\n",
    "            X_new = self.pca.transform(X_new)\n",
    "\n",
    "        X_new = np.cos(X_new @ self.w + self.b)\n",
    "        return self.model.predict(X_new)"
   ]
  },
  {
   "cell_type": "code",
   "execution_count": 89,
   "metadata": {},
   "outputs": [
    {
     "data": {
      "text/plain": [
       "0.8549"
      ]
     },
     "execution_count": 89,
     "metadata": {},
     "output_type": "execute_result"
    }
   ],
   "source": [
    "pipeline = ORFPipeline()\n",
    "pipeline.fit(x_train, y_train)\n",
    "y_pred = pipeline.predict(x_test)\n",
    "accuracy_score(y_test, y_pred)"
   ]
  },
  {
   "cell_type": "code",
   "execution_count": 90,
   "metadata": {},
   "outputs": [
    {
     "data": {
      "text/plain": [
       "0.8807"
      ]
     },
     "execution_count": 90,
     "metadata": {},
     "output_type": "execute_result"
    }
   ],
   "source": [
    "pipeline = ORFPipeline(classifier='svm')\n",
    "pipeline.fit(x_train, y_train)\n",
    "y_pred = pipeline.predict(x_test)\n",
    "accuracy_score(y_test, y_pred)"
   ]
  },
  {
   "cell_type": "markdown",
   "metadata": {},
   "source": [
    "По качеству примерно то же самое. По времени тоже."
   ]
  },
  {
   "cell_type": "markdown",
   "metadata": {
    "id": "4pc7-1jmK-hY"
   },
   "source": [
    "__Задание 5. (Максимум 1 балл)__\n",
    "\n",
    "Поэкспериментируйте с функциями для вычисления новых случайных признаков. Не обязательно использовать косинус от скалярного произведения — можно брать знак от него, хэш и т.д. Придумайте побольше вариантов для генерации признаков и проверьте, не получается ли с их помощью добиваться более высокого качества. Также можете попробовать другой классификатор поверх случайных признаков, сравните результаты."
   ]
  },
  {
   "cell_type": "code",
   "execution_count": 138,
   "metadata": {
    "id": "dWj-O2vjK-hY"
   },
   "outputs": [],
   "source": [
    "from scipy.special import expit\n",
    "def new_features(X, n_features, d, sigma, mode, params=None):\n",
    "    if mode == 0:\n",
    "        if params is None:\n",
    "            w = np.random.normal(0, 1 / sigma, size=(d, n_features))\n",
    "            b = np.random.uniform(-np.pi, np.pi, n_features)\n",
    "        else:\n",
    "            w, b = params[0], params[1]\n",
    "        return np.cos(X @ w + b), (w, b)\n",
    "    elif mode == 1:\n",
    "        if params is None:\n",
    "            w = np.random.normal(0, 1 / sigma, size=(d, n_features))\n",
    "            b = np.random.uniform(-np.pi, np.pi, n_features)\n",
    "        else:\n",
    "            w, b = params[0], params[1]\n",
    "        return np.sin(X @ w + b), (w, b)\n",
    "    elif mode == 2:\n",
    "        if params is None:\n",
    "            w = np.random.normal(0, 1 / sigma, size=(d, n_features))\n",
    "        else:\n",
    "            w = params\n",
    "        return np.sign(X @ w), w\n",
    "    elif mode == 3:\n",
    "        if params is None:\n",
    "            w = np.random.normal(0, 1 / sigma, size=(d, n_features))\n",
    "            b = np.random.normal(size = n_features)\n",
    "        else:\n",
    "            w, b = params[0], params[1]\n",
    "        return np.sign(X @ w + b), (w, b)\n",
    "    elif mode == 4: #лог-мономы\n",
    "        Deg = 0\n",
    "        sgn = 0\n",
    "        if params is None:\n",
    "            Deg = np.random.randint(0, 10, size=(d, n_features))\n",
    "            sgn = np.random.choice([-1, 1], size=n_features)\n",
    "        else:\n",
    "            Deg, sgn = params[0], params[1]\n",
    "        return (np.log(np.abs(X)) @ Deg) * sgn, (Deg, sgn)\n",
    "    elif mode == 5: #лог-мономы со сдвигами\n",
    "        b = 0\n",
    "        Deg = 0\n",
    "        sgn = 0\n",
    "        if params is None:\n",
    "            b = np.random.normal(scale = sigma, size = d)\n",
    "            Deg = np.random.randint(0, 3, size=(d, n_features))\n",
    "            sgn = np.random.choice([-1, 1], size=n_features)\n",
    "        else:\n",
    "            b, Deg, sgn = params[0], params[1], params[2]\n",
    "        return (np.log(np.abs(X + b)) @ Deg) * sgn, (b, Deg, sgn)\n",
    "    elif mode == 6:\n",
    "        if params is None:\n",
    "            w = np.random.normal(0, 1 / sigma, size=(d, n_features))\n",
    "            b = np.random.uniform(-np.pi, np.pi, n_features)\n",
    "        else:\n",
    "            w, b = params[0], params[1]\n",
    "        return np.tanh(X @ w + b), (w, b)\n",
    "    elif mode == 7:\n",
    "        if params is None:\n",
    "            w = np.random.normal(0, 1 / sigma, size=(d, n_features))\n",
    "            b = np.random.uniform(-np.pi, np.pi, n_features)\n",
    "        else:\n",
    "            w, b = params[0], params[1]\n",
    "        return expit(X @ w + b), (w, b)"
   ]
  },
  {
   "cell_type": "code",
   "execution_count": 139,
   "metadata": {},
   "outputs": [],
   "source": [
    "class DiffFeaturesPipeline(BaseEstimator, TransformerMixin):\n",
    "    def __init__(self, n_features=1000, new_dim=50, use_PCA=True, classifier='logreg', mode=0):\n",
    "        \"\"\"        \n",
    "        Implements pipeline, which consists of PCA decomposition,\n",
    "        Random Fourier Features approximation and linear classification model.\n",
    "        \n",
    "        n_features, int: amount of synthetic random features generated with RFF approximation.\n",
    "\n",
    "        new_dim, int: PCA output size.\n",
    "        \n",
    "        use_PCA, bool: whether to include PCA preprocessing.\n",
    "        \n",
    "        classifier, string: either 'svm' or 'logreg', a linear classification model to use on top of pipeline.\n",
    "        \n",
    "        Feel free to edit this template for your preferences.    \n",
    "        \"\"\"\n",
    "        self.n_features = n_features\n",
    "        self.use_PCA = use_PCA\n",
    "        self.new_dim = new_dim\n",
    "        self.classifier = classifier\n",
    "        self.mode = mode\n",
    "        if self.classifier == 'logreg':\n",
    "            self.model = LogisticRegression()\n",
    "        elif self.classifier == 'svm':\n",
    "            self.model = SVC(kernel='linear', probability=True)\n",
    "        else:\n",
    "            raise ValueError('YOU FUCKING IDIOT')\n",
    "        \n",
    "    def fit(self, X, y):\n",
    "        \"\"\"\n",
    "        Fit all parts of algorithm (PCA, RFF, Classification) to training set.\n",
    "        \"\"\"\n",
    "        self.scaler = StandardScaler()\n",
    "        X_new = X.copy()\n",
    "        X_new = self.scaler.fit_transform(X_new)\n",
    "        if self.use_PCA:\n",
    "            self.pca = PCA(n_components=self.new_dim)\n",
    "            X_new = self.pca.fit_transform(X_new)\n",
    "        ind = np.random.choice(X_new.shape[0], size=(2, 1000))\n",
    "        ind = ind[:, ind[0] != ind[1]]\n",
    "        self.sigma = np.median(np.sum((X_new[ind[0]] - X_new[ind[1]]) **2 , axis=1)) ** 0.5\n",
    "\n",
    "        X_new, self.params = new_features(X_new, self.n_features, X_new.shape[1], self.sigma, self.mode)\n",
    "        \n",
    "        self.model.fit(X_new, y)\n",
    "        return self\n",
    "\n",
    "    def predict_proba(self, X):\n",
    "        \"\"\"\n",
    "        Apply pipeline to obtain scores for input data.\n",
    "        \"\"\"\n",
    "        X_new = X.copy()\n",
    "        X_new = self.scaler.transform(X_new)\n",
    "        if self.use_PCA:\n",
    "            X_new = self.pca.transform(X_new)\n",
    "\n",
    "        X_new, _ = new_features(X_new, self.n_features, X_new.shape[1], self.sigma, self.mode, self.params)\n",
    "        return self.model.predict_proba(X_new)\n",
    "        \n",
    "    def predict(self, X):\n",
    "        \"\"\"\n",
    "        Apply pipeline to obtain discrete predictions for input data.\n",
    "        \"\"\"\n",
    "        X_new = X.copy()\n",
    "        X_new = self.scaler.transform(X_new)\n",
    "        if self.use_PCA:\n",
    "            X_new = self.pca.transform(X_new)\n",
    "        X_new, _ = new_features(X_new, self.n_features, X_new.shape[1], self.sigma, self.mode, self.params)\n",
    "        return self.model.predict(X_new)"
   ]
  },
  {
   "cell_type": "code",
   "execution_count": 140,
   "metadata": {},
   "outputs": [
    {
     "name": "stdout",
     "output_type": "stream",
     "text": [
      "0.8568\n",
      "0.8587\n",
      "0.8348\n",
      "0.8424\n",
      "0.6149\n",
      "0.6976\n",
      "0.835\n",
      "0.8082\n"
     ]
    }
   ],
   "source": [
    "for i in range(8):\n",
    "    pipeline = DiffFeaturesPipeline(mode=i)\n",
    "    pipeline.fit(x_train, y_train)\n",
    "    y_pred = pipeline.predict(x_test)\n",
    "    print(accuracy_score(y_test, y_pred))"
   ]
  },
  {
   "cell_type": "markdown",
   "metadata": {},
   "source": [
    "__Задание 6. (Максимум 1 балл)__\n",
    "\n",
    "Реализуйте класс ядровой Ridge регрессии (Лекция 13, $\\S 1.2$), для оптимизации используте градиентный спуск, а не аналитическую формулу. Также подумайте о том, как в формулах правильно учесть свободный коэффициент. Затем адаптируйте вашу реализацию RFF под задачу регрессии. Сравните вашу ядровую регрессию и RFF на синтетических данных."
   ]
  },
  {
   "cell_type": "markdown",
   "metadata": {},
   "source": [
    "Функция потерь: \n",
    "$$\n",
    "Q(w) = \\frac{1}{2} ||\\Phi \\Phi^T w - y||^2 + \\frac{\\lambda}{2} w^T \\Phi \\Phi^T w \\rightarrow \\min_w,\n",
    "$$\n",
    "где $\\Phi \\Phi^T = K$, $K = (k(x_i, x_j))_{i, j = 1}^{\\ell}$.\n",
    "\n",
    "Предсказание: \n",
    "$\n",
    "y(x) = k(x)^T w,\n",
    "$\n",
    "где $k(x)$ — вектор функций ядра от пар объектов $(x, x_i)_{i=1}^{\\ell}$.\n",
    "\n",
    "Вы можете изменять представленный ниже шаблон по своему усмотрению."
   ]
  },
  {
   "cell_type": "code",
   "execution_count": 195,
   "metadata": {},
   "outputs": [],
   "source": [
    "import numpy as np\n",
    "from sklearn.base import RegressorMixin\n",
    "from sklearn.gaussian_process.kernels import RBF\n",
    "\n",
    "class KernelRidgeRegression(RegressorMixin):\n",
    "    \"\"\"\n",
    "    Kernel Ridge regression class\n",
    "    \"\"\"\n",
    "\n",
    "    def __init__(self,         \n",
    "        lr=0.01,\n",
    "        regularization=1.,\n",
    "        tolerance=1e-2,\n",
    "        max_iter=1000,\n",
    "        batch_size=64,\n",
    "        kernel_scale=1.\n",
    "    ):\n",
    "        \"\"\"\n",
    "        :param lr: learning rate\n",
    "        :param regularization: regularization coefficient\n",
    "        :param tolerance: stopping criterion for square of euclidean norm of weight difference\n",
    "        :param max_iter: stopping criterion for iterations\n",
    "        :param batch_size: size of the batches used in gradient descent steps\n",
    "        :parame kernel_scale: length scale in RBF kernel formula\n",
    "        \"\"\"\n",
    "\n",
    "        self.lr: float = lr\n",
    "        self.regularization: float = regularization\n",
    "        self.w: np.ndarray | None = None\n",
    "\n",
    "        self.tolerance: float = tolerance\n",
    "        self.max_iter: int = max_iter\n",
    "        self.batch_size: int = batch_size\n",
    "        self.loss_history: list[float] = []\n",
    "        self.kernel = RBF(kernel_scale)\n",
    "\n",
    "    def calc_loss(self, K: np.ndarray, y: np.ndarray) -> float:\n",
    "        \"\"\"\n",
    "        Calculating loss for x and y dataset\n",
    "        :param x: features array\n",
    "        :param y: targets array\n",
    "        \"\"\"\n",
    "        return 0.5 * np.linalg.norm(K @ self.w - y) ** 2 + self.regularization / 2 * self.w.T @ K @ self.w\n",
    "\n",
    "    def calc_grad(self, K: np.ndarray, y: np.ndarray) -> float:\n",
    "        \"\"\"\n",
    "        Calculating gradient for x and y dataset\n",
    "        :param x: features array\n",
    "        :param y: targets array\n",
    "        \"\"\"\n",
    "        return K @ (K @ self.w - y) + self.regularization * K @ self.w\n",
    "\n",
    "    def fit(self, x: np.ndarray, y: np.ndarray) -> \"KernelRidgeRegression\":\n",
    "        \"\"\"\n",
    "        Fitting weights for x and y dataset\n",
    "        :param x: features array\n",
    "        :param y: targets array\n",
    "        :return: self\n",
    "        \"\"\"\n",
    "        self.x = x.copy()\n",
    "        K = self.kernel(x)\n",
    "        if self.w is None:\n",
    "            self.w = np.zeros(x.shape[0])\n",
    "        self.loss_history.append(self.calc_loss(K, y))\n",
    "        for _ in range(self.max_iter):\n",
    "            diff = self.lr * self.calc_grad(K, y)\n",
    "            self.w -= diff\n",
    "            self.loss_history.append(self.calc_loss(K, y))\n",
    "            if np.isnan(diff).any() or np.linalg.norm(diff) ** 2 < self.tolerance:\n",
    "                break\n",
    "        return self\n",
    "        \n",
    "\n",
    "    def predict(self, x: np.ndarray) -> np.ndarray:\n",
    "        \"\"\"\n",
    "        Predicting targets for x dataset\n",
    "        :param x: features array\n",
    "        :return: prediction: np.ndarray\n",
    "        \"\"\"\n",
    "        K = self.kernel(x, self.x)\n",
    "        return K @ self.w"
   ]
  },
  {
   "cell_type": "code",
   "execution_count": 141,
   "metadata": {},
   "outputs": [],
   "source": [
    "from sklearn.linear_model import Ridge\n",
    "class DiffFeaturesPipeline(BaseEstimator, TransformerMixin):\n",
    "    def __init__(self, n_features=1000, new_dim=50, use_PCA=True, classifier='logreg', mode=0):\n",
    "        \"\"\"        \n",
    "        Implements pipeline, which consists of PCA decomposition,\n",
    "        Random Fourier Features approximation and linear classification model.\n",
    "        \n",
    "        n_features, int: amount of synthetic random features generated with RFF approximation.\n",
    "\n",
    "        new_dim, int: PCA output size.\n",
    "        \n",
    "        use_PCA, bool: whether to include PCA preprocessing.\n",
    "        \n",
    "        classifier, string: either 'svm' or 'logreg', a linear classification model to use on top of pipeline.\n",
    "        \n",
    "        Feel free to edit this template for your preferences.    \n",
    "        \"\"\"\n",
    "        self.n_features = n_features\n",
    "        self.use_PCA = use_PCA\n",
    "        self.new_dim = new_dim\n",
    "        self.classifier = classifier\n",
    "        self.mode = mode\n",
    "        if self.classifier == 'logreg':\n",
    "            self.model = LogisticRegression()\n",
    "        elif self.classifier == 'svm':\n",
    "            self.model = SVC(kernel='linear', probability=True)\n",
    "        elif self.classifier == 'linreg':\n",
    "            self.model = Ridge()\n",
    "        else:\n",
    "            raise ValueError('YOU FUCKING IDIOT')\n",
    "        \n",
    "    def fit(self, X, y):\n",
    "        \"\"\"\n",
    "        Fit all parts of algorithm (PCA, RFF, Classification) to training set.\n",
    "        \"\"\"\n",
    "        self.scaler = StandardScaler()\n",
    "        X_new = X.copy()\n",
    "        X_new = self.scaler.fit_transform(X_new)\n",
    "        if self.use_PCA:\n",
    "            self.pca = PCA(n_components=self.new_dim)\n",
    "            X_new = self.pca.fit_transform(X_new)\n",
    "        ind = np.random.choice(X_new.shape[0], size=(2, 1000))\n",
    "        ind = ind[:, ind[0] != ind[1]]\n",
    "        self.sigma = np.median(np.sum((X_new[ind[0]] - X_new[ind[1]]) **2 , axis=1)) ** 0.5\n",
    "\n",
    "        X_new, self.params = new_features(X_new, self.n_features, X_new.shape[1], self.sigma, self.mode)\n",
    "        \n",
    "        self.model.fit(X_new, y)\n",
    "        return self\n",
    "\n",
    "    def predict_proba(self, X):\n",
    "        \"\"\"\n",
    "        Apply pipeline to obtain scores for input data.\n",
    "        \"\"\"\n",
    "        if self.classifier == 'linreg':\n",
    "            raise ValueError('YOU FUCKING IDIOT')\n",
    "        X_new = X.copy()\n",
    "        X_new = self.scaler.transform(X_new)\n",
    "        if self.use_PCA:\n",
    "            X_new = self.pca.transform(X_new)\n",
    "\n",
    "        X_new, _ = new_features(X_new, self.n_features, X_new.shape[1], self.sigma, self.mode, self.params)\n",
    "        return self.model.predict_proba(X_new)\n",
    "        \n",
    "    def predict(self, X):\n",
    "        \"\"\"\n",
    "        Apply pipeline to obtain discrete predictions for input data.\n",
    "        \"\"\"\n",
    "        X_new = X.copy()\n",
    "        X_new = self.scaler.transform(X_new)\n",
    "        if self.use_PCA:\n",
    "            X_new = self.pca.transform(X_new)\n",
    "        X_new, _ = new_features(X_new, self.n_features, X_new.shape[1], self.sigma, self.mode, self.params)\n",
    "        return self.model.predict(X_new)"
   ]
  },
  {
   "cell_type": "code",
   "execution_count": 191,
   "metadata": {},
   "outputs": [],
   "source": [
    "X = np.random.rand(10000, 500)\n",
    "w = np.random.rand(X.shape[1])\n",
    "y = X @ w + np.random.randn(X.shape[0])\n",
    "\n",
    "X_train, X_test, y_train, y_test = train_test_split(X, y, test_size=0.3)"
   ]
  },
  {
   "cell_type": "code",
   "execution_count": 196,
   "metadata": {},
   "outputs": [
    {
     "data": {
      "text/plain": [
       "14888.876008987554"
      ]
     },
     "execution_count": 196,
     "metadata": {},
     "output_type": "execute_result"
    }
   ],
   "source": [
    "from sklearn.metrics import mean_squared_error as mse\n",
    "kernel_linreg = KernelRidgeRegression().fit(X_train, y_train)\n",
    "y_pred = kernel_linreg.predict(X_test)\n",
    "mse(y_test, y_pred)"
   ]
  },
  {
   "cell_type": "code",
   "execution_count": 176,
   "metadata": {},
   "outputs": [
    {
     "data": {
      "text/plain": [
       "15.036631026467203"
      ]
     },
     "execution_count": 176,
     "metadata": {},
     "output_type": "execute_result"
    }
   ],
   "source": [
    "rff_linreg = DiffFeaturesPipeline(classifier='linreg').fit(X_train, y_train)\n",
    "y_pred = rff_linreg.predict(X_test)\n",
    "mse(y_test, y_pred)"
   ]
  }
 ],
 "metadata": {
  "colab": {
   "collapsed_sections": [],
   "name": "homework-practice-08-random-features.ipynb",
   "provenance": []
  },
  "kernelspec": {
   "display_name": "Python 3 (ipykernel)",
   "language": "python",
   "name": "python3"
  },
  "language_info": {
   "codemirror_mode": {
    "name": "ipython",
    "version": 3
   },
   "file_extension": ".py",
   "mimetype": "text/x-python",
   "name": "python",
   "nbconvert_exporter": "python",
   "pygments_lexer": "ipython3",
   "version": "3.11.7"
  }
 },
 "nbformat": 4,
 "nbformat_minor": 1
}
